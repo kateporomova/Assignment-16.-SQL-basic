{
 "cells": [
  {
   "cell_type": "code",
   "execution_count": 20,
   "id": "905b4d04-3f5f-4d27-9e31-210f743b8d40",
   "metadata": {},
   "outputs": [
    {
     "name": "stdout",
     "output_type": "stream",
     "text": [
      "Requirement already satisfied: matplotlib in /opt/anaconda3/lib/python3.11/site-packages (3.8.0)\n",
      "Requirement already satisfied: contourpy>=1.0.1 in /opt/anaconda3/lib/python3.11/site-packages (from matplotlib) (1.2.0)\n",
      "Requirement already satisfied: cycler>=0.10 in /opt/anaconda3/lib/python3.11/site-packages (from matplotlib) (0.11.0)\n",
      "Requirement already satisfied: fonttools>=4.22.0 in /opt/anaconda3/lib/python3.11/site-packages (from matplotlib) (4.25.0)\n",
      "Requirement already satisfied: kiwisolver>=1.0.1 in /opt/anaconda3/lib/python3.11/site-packages (from matplotlib) (1.4.4)\n",
      "Requirement already satisfied: numpy<2,>=1.21 in /opt/anaconda3/lib/python3.11/site-packages (from matplotlib) (1.26.4)\n",
      "Requirement already satisfied: packaging>=20.0 in /opt/anaconda3/lib/python3.11/site-packages (from matplotlib) (23.1)\n",
      "Requirement already satisfied: pillow>=6.2.0 in /opt/anaconda3/lib/python3.11/site-packages (from matplotlib) (10.2.0)\n",
      "Requirement already satisfied: pyparsing>=2.3.1 in /opt/anaconda3/lib/python3.11/site-packages (from matplotlib) (3.0.9)\n",
      "Requirement already satisfied: python-dateutil>=2.7 in /opt/anaconda3/lib/python3.11/site-packages (from matplotlib) (2.8.2)\n",
      "Requirement already satisfied: six>=1.5 in /opt/anaconda3/lib/python3.11/site-packages (from python-dateutil>=2.7->matplotlib) (1.16.0)\n"
     ]
    }
   ],
   "source": [
    "import psycopg2\n",
    "from psycopg2.extras import DictCursor\n",
    "import pandas as pd\n",
    "import os\n",
    "os.environ['POSTGRESQL_USER'] = 'your_username'\n",
    "os.environ['POSTGRESQL_PASSWORD'] = 'your_password'\n",
    "import seaborn as sns\n",
    "!pip install matplotlib\n",
    "from matplotlib import pyplot as plt\n",
    "sql_host = '10.129.0.25'\n",
    "def get_query(query: int):\n",
    "    with psycopg2.connect(\n",
    "        dbname = 'demo',\n",
    "        user = os.environ['POSTGRESQL_USER'],\n",
    "        password = os.environ['POSTGRESQL_PASSWORD'],\n",
    "        host = sql_host\n",
    "    )as c:\n",
    "        with c.cursor() as cur:\n",
    "            cur.execute(query)\n",
    "            res = cur.fetchall()\n",
    "            return res"
   ]
  },
  {
   "cell_type": "code",
   "execution_count": null,
   "id": "31493e8e-2c49-433f-962e-d49dc451b828",
   "metadata": {},
   "outputs": [],
   "source": [
    "# Which fare conditions are available for flights from AER to SVO (i.e. from Adler/Sochi to Sheremetevo/Moscow)"
   ]
  },
  {
   "cell_type": "code",
   "execution_count": 24,
   "id": "3d15a0b5-7c16-452e-bdcb-3666c4434cc9",
   "metadata": {},
   "outputs": [
    {
     "name": "stdout",
     "output_type": "stream",
     "text": [
      "Operational error: could not connect to server: Operation timed out\n",
      "\tIs the server running on host \"10.129.0.25\" and accepting\n",
      "\tTCP/IP connections on port 5432?\n",
      "\n",
      "Fare conditions for flights from AER to SVO: None\n"
     ]
    }
   ],
   "source": [
    "query_1 = \"\"\"\n",
    "    SELECT DISTINCT fare_condition \n",
    "    FROM flights \n",
    "    WHERE arrival_airport = 'SVO' AND departure_airport = 'AER'\n",
    "\"\"\"\n",
    "fare_conditions = get_query(query_1)\n",
    "print(\"Fare conditions for flights from AER to SVO:\", fare_conditions)"
   ]
  },
  {
   "cell_type": "code",
   "execution_count": 25,
   "id": "e093c51a-4593-4a9a-b320-65ed22391148",
   "metadata": {},
   "outputs": [],
   "source": [
    "# A list of aircraft models which fly to the Yakutsk AND Abakan cities"
   ]
  },
  {
   "cell_type": "code",
   "execution_count": 26,
   "id": "26c0c609-efba-4b85-aeaf-5213bb27cb15",
   "metadata": {},
   "outputs": [
    {
     "name": "stdout",
     "output_type": "stream",
     "text": [
      "Operational error: could not connect to server: Operation timed out\n",
      "\tIs the server running on host \"10.129.0.25\" and accepting\n",
      "\tTCP/IP connections on port 5432?\n",
      "\n",
      "Aircraft models flying to both Yakutsk and Abakan: None\n"
     ]
    }
   ],
   "source": [
    "query_2 = \"\"\"\n",
    "    SELECT DISTINCT aircraft_code \n",
    "    FROM flights \n",
    "    WHERE arrival_airport IN ('YAK', 'ABA') \n",
    "    GROUP BY aircraft_code \n",
    "    HAVING COUNT(DISTINCT arrival_airport) = 2\n",
    "\"\"\"\n",
    "aircraft_models_both = get_query(query_2)\n",
    "print(\"Aircraft models flying to both Yakutsk and Abakan:\", aircraft_models_both)"
   ]
  },
  {
   "cell_type": "code",
   "execution_count": null,
   "id": "79504403-3958-410f-94c2-608330c01f00",
   "metadata": {},
   "outputs": [],
   "source": [
    "# A list of aircraft models which fly to the Yakutsk OR Abakan cities"
   ]
  },
  {
   "cell_type": "code",
   "execution_count": 27,
   "id": "4b28fdc7-adfd-4172-9f14-3e0c248ebd25",
   "metadata": {},
   "outputs": [
    {
     "name": "stdout",
     "output_type": "stream",
     "text": [
      "Operational error: could not connect to server: Operation timed out\n",
      "\tIs the server running on host \"10.129.0.25\" and accepting\n",
      "\tTCP/IP connections on port 5432?\n",
      "\n",
      "Aircraft models flying to either Yakutsk or Abakan: None\n"
     ]
    }
   ],
   "source": [
    "query_3 = \"\"\"\n",
    "    SELECT DISTINCT aircraft_code \n",
    "    FROM flights \n",
    "    WHERE arrival_airport IN ('YAK', 'ABA')\n",
    "\"\"\"\n",
    "aircraft_models_either = get_query(query_3)\n",
    "print(\"Aircraft models flying to either Yakutsk or Abakan:\", aircraft_models_either)"
   ]
  },
  {
   "cell_type": "code",
   "execution_count": null,
   "id": "a76f6e85-b072-4628-af8d-0469dc8adb58",
   "metadata": {},
   "outputs": [],
   "source": [
    "# A list of aircrafts which DON’T fly to Yakutsk city"
   ]
  },
  {
   "cell_type": "code",
   "execution_count": 28,
   "id": "1615c5fc-f65f-41b3-999f-08eeb3e79cc4",
   "metadata": {},
   "outputs": [
    {
     "name": "stdout",
     "output_type": "stream",
     "text": [
      "Operational error: could not connect to server: Operation timed out\n",
      "\tIs the server running on host \"10.129.0.25\" and accepting\n",
      "\tTCP/IP connections on port 5432?\n",
      "\n",
      "Aircraft models not flying to Yakutsk: None\n"
     ]
    }
   ],
   "source": [
    "query_4 = \"\"\"\n",
    "    SELECT DISTINCT aircraft_code \n",
    "    FROM flights \n",
    "    WHERE aircraft_code NOT IN (SELECT DISTINCT aircraft_code FROM flights WHERE arrival_airport = 'YAK')\n",
    "\"\"\"\n",
    "aircraft_not_to_yakutsk = get_query(query_4)\n",
    "print(\"Aircraft models not flying to Yakutsk:\", aircraft_not_to_yakutsk)"
   ]
  },
  {
   "cell_type": "code",
   "execution_count": null,
   "id": "248e9b74-eec0-420a-937c-a1042e1ba45a",
   "metadata": {},
   "outputs": [],
   "source": [
    "# Find out airport codes related to Mrs. 'ELLA DMITRIEVA'  - from where and to where she flew."
   ]
  },
  {
   "cell_type": "code",
   "execution_count": 29,
   "id": "7e732b68-4619-4394-918c-352e5cc58b19",
   "metadata": {},
   "outputs": [
    {
     "name": "stdout",
     "output_type": "stream",
     "text": [
      "Operational error: could not connect to server: Operation timed out\n",
      "\tIs the server running on host \"10.129.0.25\" and accepting\n",
      "\tTCP/IP connections on port 5432?\n",
      "\n",
      "Airport codes related to Mrs. ELLA DMITRIEVA: None\n"
     ]
    }
   ],
   "source": [
    "query_5 = \"\"\"\n",
    "    SELECT DISTINCT departure_airport, arrival_airport \n",
    "    FROM flights \n",
    "    WHERE passenger_name = 'ELLA DMITRIEVA'\n",
    "\"\"\"\n",
    "airport_codes_ella = get_query(query_5)\n",
    "print(\"Airport codes related to Mrs. ELLA DMITRIEVA:\", airport_codes_ella)"
   ]
  },
  {
   "cell_type": "code",
   "execution_count": null,
   "id": "3331745e-dbdd-4d3d-8625-f52db1716106",
   "metadata": {},
   "outputs": [],
   "source": []
  },
  {
   "cell_type": "code",
   "execution_count": null,
   "id": "818d6449-b722-4309-92dd-8d0726af0c9f",
   "metadata": {},
   "outputs": [],
   "source": []
  }
 ],
 "metadata": {
  "kernelspec": {
   "display_name": "Python 3 (ipykernel)",
   "language": "python",
   "name": "python3"
  },
  "language_info": {
   "codemirror_mode": {
    "name": "ipython",
    "version": 3
   },
   "file_extension": ".py",
   "mimetype": "text/x-python",
   "name": "python",
   "nbconvert_exporter": "python",
   "pygments_lexer": "ipython3",
   "version": "3.11.7"
  }
 },
 "nbformat": 4,
 "nbformat_minor": 5
}
